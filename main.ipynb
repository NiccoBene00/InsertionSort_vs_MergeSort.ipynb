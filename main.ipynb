{
  "nbformat": 4,
  "nbformat_minor": 0,
  "metadata": {
    "colab": {
      "provenance": []
    },
    "kernelspec": {
      "name": "python3",
      "display_name": "Python 3"
    },
    "language_info": {
      "name": "python"
    }
  },
  "cells": [
    {
      "cell_type": "code",
      "execution_count": 1,
      "metadata": {
        "id": "xKoFHfzDuzeM",
        "colab": {
          "base_uri": "https://localhost:8080/"
        },
        "outputId": "f130073e-1383-45fc-bfb2-1f14d2fe580b"
      },
      "outputs": [
        {
          "output_type": "stream",
          "name": "stdout",
          "text": [
            "Mounted at /content/drive\n"
          ]
        }
      ],
      "source": [
        "# Mount your Google Drive in Google Colab\n",
        "\n",
        "from google.colab import drive\n",
        "drive.mount('/content/drive')"
      ]
    },
    {
      "cell_type": "code",
      "source": [
        "import nbformat\n",
        "from IPython import get_ipython\n",
        "\n",
        "def import_ipynb(file_path):\n",
        "    with open(file_path, 'r', encoding='utf-8') as f:\n",
        "        nb = nbformat.read(f, as_version=4)\n",
        "\n",
        "    # run every cells of the notebook\n",
        "    ip = get_ipython()\n",
        "    for cell in nb.cells:\n",
        "        if cell.cell_type == 'code':\n",
        "            ip.run_cell(cell.source)\n",
        "\n",
        "\n",
        "notebook_CompareSortAlgorithm = '/content/drive/My Drive/Colab Notebooks/ASD/InsertionSort_VS_MergeSort/CompareSortAlgorithm.ipynb'\n",
        "import_ipynb(notebook_CompareSortAlgorithm)\n"
      ],
      "metadata": {
        "id": "ME2VCwWjwNTL"
      },
      "execution_count": 9,
      "outputs": []
    },
    {
      "cell_type": "code",
      "source": [
        "import random\n",
        "import builtins\n",
        "if 'sorted' in globals() and not callable(globals()['sorted']):\n",
        "    sorted = builtins.sorted\n",
        "\n",
        "comparison = SortingComparison()\n",
        "sizes = [10, 100, 1000]\n",
        "structures = [\"random\", \"almost_sorted\", \"reversed\", \"sorted_list\"]\n",
        "\n",
        "results = comparison.compareAlgorithms(sizes, structures)\n",
        "comparison.analyzeResults(results)\n"
      ],
      "metadata": {
        "colab": {
          "base_uri": "https://localhost:8080/"
        },
        "id": "DTJWR0SrwliX",
        "outputId": "f19ad941-651c-4469-f220-81362974a62b"
      },
      "execution_count": 10,
      "outputs": [
        {
          "output_type": "stream",
          "name": "stdout",
          "text": [
            "Inizializing sort algorithms class...\n",
            "\n",
            "--- Sorting Algorithm Comparison ---\n",
            "\n",
            "***********************************************\n",
            "[Input Size: 10 - Structure: random]\n",
            "Insertion Sort Time: 0.000020 seconds\n",
            "Merge Sort Time: 0.000032 seconds\n",
            "Faster: Insertion Sort\n",
            "***********************************************\n",
            "[Input Size: 100 - Structure: random]\n",
            "Insertion Sort Time: 0.000871 seconds\n",
            "Merge Sort Time: 0.000417 seconds\n",
            "Faster: Merge Sort\n",
            "***********************************************\n",
            "[Input Size: 1000 - Structure: random]\n",
            "Insertion Sort Time: 0.115055 seconds\n",
            "Merge Sort Time: 0.004833 seconds\n",
            "Faster: Merge Sort\n",
            "***********************************************\n",
            "[Input Size: 10 - Structure: almost_sorted]\n",
            "Insertion Sort Time: 0.000016 seconds\n",
            "Merge Sort Time: 0.000033 seconds\n",
            "Faster: Insertion Sort\n",
            "***********************************************\n",
            "[Input Size: 100 - Structure: almost_sorted]\n",
            "Insertion Sort Time: 0.000207 seconds\n",
            "Merge Sort Time: 0.000284 seconds\n",
            "Faster: Insertion Sort\n",
            "***********************************************\n",
            "[Input Size: 1000 - Structure: almost_sorted]\n",
            "Insertion Sort Time: 0.024028 seconds\n",
            "Merge Sort Time: 0.005192 seconds\n",
            "Faster: Merge Sort\n",
            "***********************************************\n",
            "[Input Size: 10 - Structure: reversed]\n",
            "Insertion Sort Time: 0.000032 seconds\n",
            "Merge Sort Time: 0.000033 seconds\n",
            "Faster: Insertion Sort\n",
            "***********************************************\n",
            "[Input Size: 100 - Structure: reversed]\n",
            "Insertion Sort Time: 0.001878 seconds\n",
            "Merge Sort Time: 0.000564 seconds\n",
            "Faster: Merge Sort\n",
            "***********************************************\n",
            "[Input Size: 1000 - Structure: reversed]\n",
            "Insertion Sort Time: 0.274283 seconds\n",
            "Merge Sort Time: 0.006802 seconds\n",
            "Faster: Merge Sort\n",
            "***********************************************\n",
            "[Input Size: 10 - Structure: sorted_list]\n",
            "Insertion Sort Time: 0.000020 seconds\n",
            "Merge Sort Time: 0.000035 seconds\n",
            "Faster: Insertion Sort\n",
            "***********************************************\n",
            "[Input Size: 100 - Structure: sorted_list]\n",
            "Insertion Sort Time: 0.000051 seconds\n",
            "Merge Sort Time: 0.000446 seconds\n",
            "Faster: Insertion Sort\n",
            "***********************************************\n",
            "[Input Size: 1000 - Structure: sorted_list]\n",
            "Insertion Sort Time: 0.003652 seconds\n",
            "Merge Sort Time: 0.012855 seconds\n",
            "Faster: Insertion Sort\n"
          ]
        }
      ]
    },
    {
      "cell_type": "markdown",
      "source": [
        "##Analisi degli esperimenti\n",
        "\n",
        "- ### Insertion Sort\n",
        "Risulta essere efficiente per liste piccole o quasi ordinate, tuttavia ha una complessità $O(n^2)$ nei casi peggiori e si osserva non essere adatto per input di grandi dimensioni.\n",
        "\n",
        "- ### Merge Sort\n",
        "Anche nei casi peggiori mantiene una complessità $O(nlogn)$ ed è ideale per input di grandi dimensioni e/o strutture casuali. Tuttavia risulta essere meno efficiente per liste piccole rispetto Insertion Sort.\n",
        "\n"
      ],
      "metadata": {
        "id": "p8LJkwt_Nf01"
      }
    }
  ]
}